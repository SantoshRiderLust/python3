{
 "cells": [
  {
   "cell_type": "markdown",
   "id": "3700a2f1",
   "metadata": {},
   "source": [
    "### While  \n",
    "- it executes block or set of instructions untill the condition if false  \n",
    "- while we dont the range  \n",
    "- execute faster than the for loop  \n",
    "- user incrementation  "
   ]
  },
  {
   "cell_type": "code",
   "execution_count": null,
   "id": "5470a813",
   "metadata": {},
   "outputs": [],
   "source": [
    "# while syntax  \n",
    "initialization  \n",
    "while condition:  \n",
    "    statements\n",
    "    incr/decrement  "
   ]
  },
  {
   "cell_type": "code",
   "execution_count": 1,
   "id": "a6a3aa77",
   "metadata": {},
   "outputs": [
    {
     "name": "stdout",
     "output_type": "stream",
     "text": [
      "Vasavi College\n",
      "Vasavi College\n",
      "Vasavi College\n",
      "Vasavi College\n",
      "Vasavi College\n"
     ]
    }
   ],
   "source": [
    "n=1  \n",
    "while n<=5:\n",
    "    print(\"Vasavi College\")\n",
    "    n=n+1"
   ]
  },
  {
   "cell_type": "code",
   "execution_count": 2,
   "id": "e7da8623",
   "metadata": {},
   "outputs": [
    {
     "name": "stdout",
     "output_type": "stream",
     "text": [
      "10 \n",
      "9 \n",
      "8 \n",
      "7 \n",
      "6 \n",
      "5 \n",
      "4 \n",
      "3 \n",
      "2 \n",
      "1 \n"
     ]
    }
   ],
   "source": [
    "n=10\n",
    "while n>=1:\n",
    "    print(n,end=\" \\n\")\n",
    "    n=n-1"
   ]
  },
  {
   "cell_type": "code",
   "execution_count": 3,
   "id": "baa24a3c",
   "metadata": {},
   "outputs": [
    {
     "name": "stdout",
     "output_type": "stream",
     "text": [
      "6315\n",
      "\n",
      "Digit Count: 4\n"
     ]
    }
   ],
   "source": [
    "# i/p 1234  \n",
    "# o/p digit count:4  \n",
    "s=int(input())\n",
    "c=0\n",
    "while(s!=0): #1234!=0 123!=0 12!=0 1!=0  \n",
    "    c=c+1    #1234%10 123%10 \n",
    "    s=s//10  \n",
    "print(\"\\nDigit Count:\",c)  "
   ]
  },
  {
   "cell_type": "code",
   "execution_count": 4,
   "id": "0b5560de",
   "metadata": {},
   "outputs": [
    {
     "name": "stdout",
     "output_type": "stream",
     "text": [
      "Enter number:121\n",
      "palindrome Number!\n"
     ]
    }
   ],
   "source": [
    "# check the given number is palindrome or not  \n",
    "# 121---121    \n",
    "n=int(input(\"Enter number:\"))\n",
    "temp=n\n",
    "rev=0\n",
    "while(n!=0):\n",
    "    rem=n%10\n",
    "    rev=rev*10+rem\n",
    "    n=n//10\n",
    "if(temp==rev):\n",
    "    print(\"palindrome Number!\")\n",
    "else:\n",
    "    print(\"Not palindrome Number!\")"
   ]
  },
  {
   "cell_type": "code",
   "execution_count": null,
   "id": "46623ed1",
   "metadata": {},
   "outputs": [],
   "source": [
    "# Syntax::Nested for loop  \n",
    "for iter in range(start,end,step):\n",
    "    for iter in range(start,end,step):\n",
    "        statement1\n",
    "        statementn  "
   ]
  },
  {
   "cell_type": "code",
   "execution_count": null,
   "id": "0600c934",
   "metadata": {},
   "outputs": [],
   "source": [
    "# Matrix formation  \n",
    "- rows,columns  \n",
    "- 2 dimensions  \n",
    "    1 2 3\n",
    "    1 2 3  "
   ]
  },
  {
   "cell_type": "code",
   "execution_count": 5,
   "id": "7c90c7fa",
   "metadata": {},
   "outputs": [
    {
     "name": "stdout",
     "output_type": "stream",
     "text": [
      "1 1 1 1 \n",
      "2 2 2 2 \n",
      "3 3 3 3 \n",
      "4 4 4 4 \n"
     ]
    }
   ],
   "source": [
    "for row in range(1,5):\n",
    "    for column in range(1,5):\n",
    "        print(row,end=\" \")  \n",
    "    print()# new line  "
   ]
  },
  {
   "cell_type": "code",
   "execution_count": 6,
   "id": "0fb65bed",
   "metadata": {},
   "outputs": [
    {
     "name": "stdout",
     "output_type": "stream",
     "text": [
      "* * * * * * * * \n",
      "* * * * * * * * \n",
      "* * * * * * * * \n",
      "* * * * * * * * \n",
      "* * * * * * * * \n"
     ]
    }
   ],
   "source": [
    "for row in range(1,6):\n",
    "    for column in range(1,9):\n",
    "        print(\"*\",end=\" \")  \n",
    "    print()# new line  "
   ]
  },
  {
   "cell_type": "code",
   "execution_count": 7,
   "id": "4d9e31ce",
   "metadata": {},
   "outputs": [
    {
     "name": "stdout",
     "output_type": "stream",
     "text": [
      "* \n",
      "* * \n",
      "* * * \n",
      "* * * * \n",
      "* * * * * \n"
     ]
    }
   ],
   "source": [
    "for row in range(1,6):\n",
    "    for column in range(1,row+1):\n",
    "        print(\"*\",end=\" \")\n",
    "    print()# new line  "
   ]
  },
  {
   "cell_type": "code",
   "execution_count": 8,
   "id": "e2f0e3c8",
   "metadata": {},
   "outputs": [
    {
     "name": "stdout",
     "output_type": "stream",
     "text": [
      "* * * * * * \n",
      "* * * * * \n",
      "* * * * \n",
      "* * * \n",
      "* * \n",
      "* \n"
     ]
    }
   ],
   "source": [
    "for row in range(6,0,-1):\n",
    "    for column in range(1,row+1):\n",
    "        print(\"*\",end=\" \")\n",
    "    print()# new line  "
   ]
  },
  {
   "cell_type": "code",
   "execution_count": 9,
   "id": "fd0dea81",
   "metadata": {},
   "outputs": [
    {
     "name": "stdout",
     "output_type": "stream",
     "text": [
      "* \n",
      "* * \n",
      "* * * \n",
      "* * * * \n",
      "* * * * * \n",
      "* * * * * * \n",
      "* * * * * \n",
      "* * * * \n",
      "* * * \n",
      "* * \n",
      "* \n"
     ]
    }
   ],
   "source": [
    "for row in range(1,6):\n",
    "    for column in range(1,row+1):\n",
    "        print(\"*\",end=\" \")\n",
    "    print()# new line\n",
    "for row in range(6,0,-1):\n",
    "    for column in range(1,row+1):\n",
    "        print(\"*\",end=\" \")\n",
    "    print()# new line  "
   ]
  },
  {
   "cell_type": "code",
   "execution_count": 10,
   "id": "f57b3e0e",
   "metadata": {},
   "outputs": [
    {
     "name": "stdout",
     "output_type": "stream",
     "text": [
      "Starting range:1\n",
      "Ending range:10\n",
      "2 3 5 7 "
     ]
    }
   ],
   "source": [
    "# 1-10  \n",
    "# Prime Numbers:2,3,5,7  \n",
    "st=int(input(\"Starting range:\"))\n",
    "en=int(input(\"Ending range:\"))  \n",
    "for num in range(st,en+1): #num=1 num=2 num=3 num=4  \n",
    "    c=0\n",
    "    for var in range(1,num+1):#(1,1)(1,2)(1,3)(1,4)  \n",
    "        if num%var==0: # factors  \n",
    "            c+=1       # factors count  \n",
    "    if c==2:\n",
    "        print(num,end=\" \")  "
   ]
  },
  {
   "cell_type": "code",
   "execution_count": null,
   "id": "97071b4b",
   "metadata": {},
   "outputs": [],
   "source": [
    "# Nested while  \n",
    "- loop inside another loop  "
   ]
  },
  {
   "cell_type": "code",
   "execution_count": null,
   "id": "d1fae075",
   "metadata": {},
   "outputs": [],
   "source": [
    "# Syntax  \n",
    "initialization  \n",
    "while condition:\n",
    "    statements  \n",
    "    incr/decr\n",
    "    while condition:  \n",
    "        statements  \n",
    "        incr/decr  "
   ]
  },
  {
   "cell_type": "code",
   "execution_count": 11,
   "id": "44c29f27",
   "metadata": {},
   "outputs": [
    {
     "name": "stdout",
     "output_type": "stream",
     "text": [
      "1 * 1 = 1\n",
      "\n",
      "2 * 2 = 4\n",
      "\n",
      "3 * 3 = 9\n",
      "\n",
      "4 * 4 = 16\n",
      "\n",
      "5 * 5 = 25\n",
      "\n",
      "6 * 6 = 36\n",
      "\n",
      "7 * 7 = 49\n",
      "\n",
      "8 * 8 = 64\n",
      "\n",
      "9 * 9 = 81\n",
      "\n",
      "10 * 10 = 100\n",
      "\n"
     ]
    }
   ],
   "source": [
    "i = 1\n",
    "while(i<=10):\n",
    "    j=1  \n",
    "    while(j<=10):  \n",
    "        print(i,\"*\",j,\"=\",i*j)\n",
    "        j = j + 1\n",
    "        print()\n",
    "        i=i+1"
   ]
  },
  {
   "cell_type": "code",
   "execution_count": 13,
   "id": "0fb4d47c",
   "metadata": {},
   "outputs": [
    {
     "name": "stdout",
     "output_type": "stream",
     "text": [
      "1 2 3 4 5 6 7 8 9 10 \n",
      "2 4 6 8 10 12 14 16 18 20 \n",
      "3 6 9 12 15 18 21 24 27 30 \n",
      "4 8 12 16 20 24 28 32 36 40 \n",
      "5 10 15 20 25 30 35 40 45 50 \n",
      "6 12 18 24 30 36 42 48 54 60 \n",
      "7 14 21 28 35 42 49 56 63 70 \n",
      "8 16 24 32 40 48 56 64 72 80 \n",
      "9 18 27 36 45 54 63 72 81 90 \n",
      "10 20 30 40 50 60 70 80 90 100 \n"
     ]
    }
   ],
   "source": [
    "# Nested for loop  \n",
    "for i in range(1, 11):\n",
    "    for j in range(1, 11): # print multiplication  \n",
    "        print(i*j,end=\" \")\n",
    "    print()"
   ]
  },
  {
   "cell_type": "markdown",
   "id": "ea5619ef",
   "metadata": {},
   "source": [
    "### Jump Statements  \n",
    "- we called as unconditional jumps  \n",
    "- Break  \n",
    "- Continue  \n",
    "- Pass  "
   ]
  },
  {
   "cell_type": "markdown",
   "id": "ba907184",
   "metadata": {},
   "source": [
    "### Break  \n",
    "- Terminates the current loop statements  \n",
    "- Break is a keyword  "
   ]
  },
  {
   "cell_type": "code",
   "execution_count": 23,
   "id": "eba8678e",
   "metadata": {},
   "outputs": [
    {
     "name": "stdout",
     "output_type": "stream",
     "text": [
      "p\n",
      "y\n",
      "t\n",
      "h\n"
     ]
    }
   ],
   "source": [
    "for i in \"python\":  \n",
    "    if i=='o':\n",
    "        break\n",
    "    print(i)"
   ]
  },
  {
   "cell_type": "code",
   "execution_count": 18,
   "id": "a6b8f735",
   "metadata": {},
   "outputs": [
    {
     "name": "stdout",
     "output_type": "stream",
     "text": [
      "1\n",
      " \n",
      "2\n",
      " \n",
      "3\n",
      " \n",
      "4\n",
      " \n",
      "5\n",
      " \n",
      "6\n",
      " \n",
      "7\n",
      " \n",
      "8\n",
      " \n"
     ]
    }
   ],
   "source": [
    "for i in \"1 2 3 4 5 6 7 8 9\":  \n",
    "    if i=='9':\n",
    "        break\n",
    "    print(i)"
   ]
  },
  {
   "cell_type": "markdown",
   "id": "439b9814",
   "metadata": {},
   "source": [
    "### Continue  \n",
    "- it skips only current iteration and continue the next iteration  \n",
    "- continue is also a keyword  "
   ]
  },
  {
   "cell_type": "code",
   "execution_count": 24,
   "id": "f63ca4c6",
   "metadata": {},
   "outputs": [
    {
     "name": "stdout",
     "output_type": "stream",
     "text": [
      "0\n",
      "1\n",
      "2\n",
      "3\n",
      "4\n",
      "5\n",
      "7\n",
      "8\n",
      "9\n"
     ]
    }
   ],
   "source": [
    "for i in range(10):\n",
    "    if i==6:\n",
    "        continue\n",
    "        print(\"fdp\")\n",
    "    print(i)"
   ]
  },
  {
   "cell_type": "code",
   "execution_count": 28,
   "id": "e8899005",
   "metadata": {},
   "outputs": [
    {
     "name": "stdout",
     "output_type": "stream",
     "text": [
      "1 3 5 7 9 "
     ]
    }
   ],
   "source": [
    "# print odd numbners using even number condition using continue  \n",
    "for i in range(1,10): \n",
    "    if(i%2==0):  \n",
    "        continue  \n",
    "    print(i,end=\" \")  "
   ]
  },
  {
   "cell_type": "markdown",
   "id": "5a253351",
   "metadata": {},
   "source": [
    "### Pass  \n",
    "- it is a keyword  \n",
    "- when we need condition scientifically correct need to change another operation  \n",
    "- it is a null operation  \n",
    "- pass statement we use to create empty classes also  "
   ]
  },
  {
   "cell_type": "code",
   "execution_count": 29,
   "id": "25c0591e",
   "metadata": {},
   "outputs": [
    {
     "name": "stdout",
     "output_type": "stream",
     "text": [
      "p\n",
      "y\n",
      "t\n",
      "Pass Exicuted\n",
      "h\n",
      "o\n",
      "n\n"
     ]
    }
   ],
   "source": [
    "s=\"python\"  \n",
    "for i in s:\n",
    "    if i=='h':\n",
    "        pass  \n",
    "        print(\"Pass Exicuted\")  \n",
    "    print(i)  "
   ]
  },
  {
   "cell_type": "markdown",
   "id": "cef86d93",
   "metadata": {},
   "source": [
    "### String  \n",
    "- string is a group of characters  \n",
    "- string is a derrived data type and immutable  \n",
    "- all strings return a new values  "
   ]
  },
  {
   "cell_type": "code",
   "execution_count": 35,
   "id": "c25addb1",
   "metadata": {},
   "outputs": [
    {
     "name": "stdout",
     "output_type": "stream",
     "text": [
      "<class 'str'>\n"
     ]
    }
   ],
   "source": [
    "a=\"vasavicollege\"  \n",
    "print(type(a))  "
   ]
  },
  {
   "cell_type": "code",
   "execution_count": 36,
   "id": "7a7b2808",
   "metadata": {},
   "outputs": [
    {
     "name": "stdout",
     "output_type": "stream",
     "text": [
      "13\n"
     ]
    }
   ],
   "source": [
    "print(len(a))  "
   ]
  },
  {
   "cell_type": "code",
   "execution_count": 37,
   "id": "0565026d",
   "metadata": {},
   "outputs": [
    {
     "name": "stdout",
     "output_type": "stream",
     "text": [
      "a\n",
      "v\n",
      "['a', 'a', 'c', 'e', 'e', 'g', 'i', 'l', 'l', 'o', 's', 'v', 'v']\n"
     ]
    }
   ],
   "source": [
    "print(min(a))  \n",
    "print(max(a))  \n",
    "print(sorted(a))  \n",
    "# print(sum(a))  "
   ]
  },
  {
   "cell_type": "code",
   "execution_count": 34,
   "id": "9c73cf87",
   "metadata": {},
   "outputs": [
    {
     "name": "stdout",
     "output_type": "stream",
     "text": [
      "pythonworkshop\n",
      "python workshop\n"
     ]
    },
    {
     "ename": "TypeError",
     "evalue": "can't multiply sequence by non-int of type 'str'",
     "output_type": "error",
     "traceback": [
      "\u001b[1;31m---------------------------------------------------------------------------\u001b[0m",
      "\u001b[1;31mTypeError\u001b[0m                                 Traceback (most recent call last)",
      "\u001b[1;32m~\\AppData\\Local\\Temp/ipykernel_3508/3047519333.py\u001b[0m in \u001b[0;36m<module>\u001b[1;34m\u001b[0m\n\u001b[0;32m      3\u001b[0m \u001b[0mprint\u001b[0m\u001b[1;33m(\u001b[0m\u001b[0ms\u001b[0m\u001b[1;33m+\u001b[0m\u001b[0ms1\u001b[0m\u001b[1;33m)\u001b[0m\u001b[1;33m\u001b[0m\u001b[1;33m\u001b[0m\u001b[0m\n\u001b[0;32m      4\u001b[0m \u001b[0mprint\u001b[0m\u001b[1;33m(\u001b[0m\u001b[0ms\u001b[0m\u001b[1;33m,\u001b[0m\u001b[0ms1\u001b[0m\u001b[1;33m)\u001b[0m\u001b[1;33m\u001b[0m\u001b[1;33m\u001b[0m\u001b[0m\n\u001b[1;32m----> 5\u001b[1;33m \u001b[0mprint\u001b[0m\u001b[1;33m(\u001b[0m\u001b[0ms\u001b[0m\u001b[1;33m*\u001b[0m\u001b[0ms1\u001b[0m\u001b[1;33m)\u001b[0m\u001b[1;33m\u001b[0m\u001b[1;33m\u001b[0m\u001b[0m\n\u001b[0m",
      "\u001b[1;31mTypeError\u001b[0m: can't multiply sequence by non-int of type 'str'"
     ]
    }
   ],
   "source": [
    "s=\"python\"  \n",
    "s1=\"workshop\"  \n",
    "print(s+s1)\n",
    "print(s,s1)  \n",
    "print(s*s1)  "
   ]
  },
  {
   "cell_type": "code",
   "execution_count": 38,
   "id": "d8e54145",
   "metadata": {},
   "outputs": [
    {
     "name": "stdout",
     "output_type": "stream",
     "text": [
      "15\n",
      "p\n",
      "n\n",
      "p\n",
      "p\n",
      "o\n",
      "python workshop\n",
      "pyth\n",
      "n works\n",
      "\n"
     ]
    }
   ],
   "source": [
    "# slicing syntax::(start:end:step)  \n",
    "# positive indexing(left to right)  \n",
    "# negative indexing(right to left)  \n",
    "s=\"python workshop\"  \n",
    "print(len(s))  \n",
    "print(s[0])  \n",
    "print(s[5])  \n",
    "print(s[14])  \n",
    "print(s[-1])  \n",
    "print(s[-2])  \n",
    "print(s[::])  \n",
    "print(s[0:4])  \n",
    "print(s[5:12])  \n",
    "print(s[-1:-5])  "
   ]
  },
  {
   "cell_type": "code",
   "execution_count": null,
   "id": "f39cec99",
   "metadata": {},
   "outputs": [],
   "source": []
  }
 ],
 "metadata": {
  "kernelspec": {
   "display_name": "Python 3 (ipykernel)",
   "language": "python",
   "name": "python3"
  },
  "language_info": {
   "codemirror_mode": {
    "name": "ipython",
    "version": 3
   },
   "file_extension": ".py",
   "mimetype": "text/x-python",
   "name": "python",
   "nbconvert_exporter": "python",
   "pygments_lexer": "ipython3",
   "version": "3.9.7"
  }
 },
 "nbformat": 4,
 "nbformat_minor": 5
}
