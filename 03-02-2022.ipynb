{
 "cells": [
  {
   "cell_type": "markdown",
   "id": "3700a2f1",
   "metadata": {},
   "source": [
    "### While  \n",
    "- it executes block or set of instructions untill the condition if false  \n",
    "- while we dont the range  \n",
    "- execute faster than the for loop  \n",
    "- user incrementation  "
   ]
  },
  {
   "cell_type": "code",
   "execution_count": null,
   "id": "5470a813",
   "metadata": {},
   "outputs": [],
   "source": [
    "# while syntax  \n",
    "initialization  \n",
    "while condition:  \n",
    "    statements\n",
    "    incr/decrement  "
   ]
  },
  {
   "cell_type": "code",
   "execution_count": 1,
   "id": "99832cb4",
   "metadata": {},
   "outputs": [
    {
     "name": "stdout",
     "output_type": "stream",
     "text": [
      "Vasavi College\n",
      "Vasavi College\n",
      "Vasavi College\n",
      "Vasavi College\n",
      "Vasavi College\n"
     ]
    }
   ],
   "source": [
    "n=1  \n",
    "while n<=5:\n",
    "    print(\"Vasavi College\")\n",
    "    n=n+1"
   ]
  },
  {
   "cell_type": "code",
   "execution_count": 2,
   "id": "34472b13",
   "metadata": {},
   "outputs": [
    {
     "name": "stdout",
     "output_type": "stream",
     "text": [
      "10 \n",
      "9 \n",
      "8 \n",
      "7 \n",
      "6 \n",
      "5 \n",
      "4 \n",
      "3 \n",
      "2 \n",
      "1 \n"
     ]
    }
   ],
   "source": [
    "n=10\n",
    "while n>=1:\n",
    "    print(n,end=\" \\n\")\n",
    "    n=n-1"
   ]
  },
  {
   "cell_type": "code",
   "execution_count": 3,
   "id": "dffe0383",
   "metadata": {},
   "outputs": [
    {
     "name": "stdout",
     "output_type": "stream",
     "text": [
      "6315\n",
      "\n",
      "Digit Count: 4\n"
     ]
    }
   ],
   "source": [
    "# i/p 1234  \n",
    "# o/p digit count:4  \n",
    "s=int(input())\n",
    "c=0\n",
    "while(s!=0): #1234!=0 123!=0 12!=0 1!=0  \n",
    "    c=c+1    #1234%10 123%10 \n",
    "    s=s//10  \n",
    "print(\"\\nDigit Count:\",c)  "
   ]
  },
  {
   "cell_type": "code",
   "execution_count": 4,
   "id": "20a8c2b1",
   "metadata": {},
   "outputs": [
    {
     "name": "stdout",
     "output_type": "stream",
     "text": [
      "Enter number:121\n",
      "palindrome Number!\n"
     ]
    }
   ],
   "source": [
    "# check the given number is palindrome or not  \n",
    "# 121---121    \n",
    "n=int(input(\"Enter number:\"))\n",
    "temp=n\n",
    "rev=0\n",
    "while(n!=0):\n",
    "    rem=n%10\n",
    "    rev=rev*10+rem\n",
    "    n=n//10\n",
    "if(temp==rev):\n",
    "    print(\"palindrome Number!\")\n",
    "else:\n",
    "    print(\"Not palindrome Number!\")"
   ]
  },
  {
   "cell_type": "code",
   "execution_count": null,
   "id": "b5d12fe2",
   "metadata": {},
   "outputs": [],
   "source": [
    "# Syntax::Nested for loop  \n",
    "for iter in range(start,end,step):\n",
    "    for iter in range(start,end,step):\n",
    "        statement1\n",
    "        statementn  "
   ]
  },
  {
   "cell_type": "code",
   "execution_count": null,
   "id": "1669218b",
   "metadata": {},
   "outputs": [],
   "source": [
    "# Matrix formation  \n",
    "- rows,columns  \n",
    "- 2 dimensions  \n",
    "    1 2 3\n",
    "    1 2 3  "
   ]
  },
  {
   "cell_type": "code",
   "execution_count": 5,
   "id": "418524bf",
   "metadata": {},
   "outputs": [
    {
     "name": "stdout",
     "output_type": "stream",
     "text": [
      "1 1 1 1 \n",
      "2 2 2 2 \n",
      "3 3 3 3 \n",
      "4 4 4 4 \n"
     ]
    }
   ],
   "source": [
    "for row in range(1,5):\n",
    "    for column in range(1,5):\n",
    "        print(row,end=\" \")  \n",
    "    print()# new line  "
   ]
  },
  {
   "cell_type": "code",
   "execution_count": 6,
   "id": "d37bff71",
   "metadata": {},
   "outputs": [
    {
     "name": "stdout",
     "output_type": "stream",
     "text": [
      "* * * * * * * * \n",
      "* * * * * * * * \n",
      "* * * * * * * * \n",
      "* * * * * * * * \n",
      "* * * * * * * * \n"
     ]
    }
   ],
   "source": [
    "for row in range(1,6):\n",
    "    for column in range(1,9):\n",
    "        print(\"*\",end=\" \")  \n",
    "    print()# new line  "
   ]
  },
  {
   "cell_type": "code",
   "execution_count": 7,
   "id": "3a8be270",
   "metadata": {},
   "outputs": [
    {
     "name": "stdout",
     "output_type": "stream",
     "text": [
      "* \n",
      "* * \n",
      "* * * \n",
      "* * * * \n",
      "* * * * * \n"
     ]
    }
   ],
   "source": [
    "for row in range(1,6):\n",
    "    for column in range(1,row+1):\n",
    "        print(\"*\",end=\" \")\n",
    "    print()# new line  "
   ]
  },
  {
   "cell_type": "code",
   "execution_count": 8,
   "id": "4222383d",
   "metadata": {},
   "outputs": [
    {
     "name": "stdout",
     "output_type": "stream",
     "text": [
      "* * * * * * \n",
      "* * * * * \n",
      "* * * * \n",
      "* * * \n",
      "* * \n",
      "* \n"
     ]
    }
   ],
   "source": [
    "for row in range(6,0,-1):\n",
    "    for column in range(1,row+1):\n",
    "        print(\"*\",end=\" \")\n",
    "    print()# new line  "
   ]
  },
  {
   "cell_type": "code",
   "execution_count": 9,
   "id": "940dcea8",
   "metadata": {},
   "outputs": [
    {
     "name": "stdout",
     "output_type": "stream",
     "text": [
      "* \n",
      "* * \n",
      "* * * \n",
      "* * * * \n",
      "* * * * * \n",
      "* * * * * * \n",
      "* * * * * \n",
      "* * * * \n",
      "* * * \n",
      "* * \n",
      "* \n"
     ]
    }
   ],
   "source": [
    "for row in range(1,6):\n",
    "    for column in range(1,row+1):\n",
    "        print(\"*\",end=\" \")\n",
    "    print()# new line\n",
    "for row in range(6,0,-1):\n",
    "    for column in range(1,row+1):\n",
    "        print(\"*\",end=\" \")\n",
    "    print()# new line  "
   ]
  },
  {
   "cell_type": "code",
   "execution_count": 10,
   "id": "ad88b750",
   "metadata": {},
   "outputs": [
    {
     "name": "stdout",
     "output_type": "stream",
     "text": [
      "Starting range:1\n",
      "Ending range:10\n",
      "2 3 5 7 "
     ]
    }
   ],
   "source": [
    "# 1-10  \n",
    "# Prime Numbers:2,3,5,7  \n",
    "st=int(input(\"Starting range:\"))\n",
    "en=int(input(\"Ending range:\"))  \n",
    "for num in range(st,en+1): #num=1 num=2 num=3 num=4  \n",
    "    c=0\n",
    "    for var in range(1,num+1):#(1,1)(1,2)(1,3)(1,4)  \n",
    "        if num%var==0: # factors  \n",
    "            c+=1       # factors count  \n",
    "    if c==2:\n",
    "        print(num,end=\" \")  "
   ]
  },
  {
   "cell_type": "code",
   "execution_count": null,
   "id": "49806ffa",
   "metadata": {},
   "outputs": [],
   "source": [
    "# Nested while  \n",
    "- loop inside another loop  "
   ]
  },
  {
   "cell_type": "code",
   "execution_count": null,
   "id": "a404583b",
   "metadata": {},
   "outputs": [],
   "source": [
    "# Syntax  \n",
    "initialization  \n",
    "while condition:\n",
    "    statements  \n",
    "    incr/decr\n",
    "    while condition:  \n",
    "        statements  \n",
    "        incr/decr  "
   ]
  },
  {
   "cell_type": "code",
   "execution_count": 11,
   "id": "d5a0fd92",
   "metadata": {},
   "outputs": [
    {
     "name": "stdout",
     "output_type": "stream",
     "text": [
      "1 * 1 = 1\n",
      "\n",
      "2 * 2 = 4\n",
      "\n",
      "3 * 3 = 9\n",
      "\n",
      "4 * 4 = 16\n",
      "\n",
      "5 * 5 = 25\n",
      "\n",
      "6 * 6 = 36\n",
      "\n",
      "7 * 7 = 49\n",
      "\n",
      "8 * 8 = 64\n",
      "\n",
      "9 * 9 = 81\n",
      "\n",
      "10 * 10 = 100\n",
      "\n"
     ]
    }
   ],
   "source": [
    "i = 1\n",
    "while(i<=10):\n",
    "    j=1  \n",
    "    while(j<=10):  \n",
    "        print(i,\"*\",j,\"=\",i*j)\n",
    "        j = j + 1\n",
    "        print()\n",
    "        i=i+1"
   ]
  },
  {
   "cell_type": "code",
   "execution_count": 13,
   "id": "91e4cf91",
   "metadata": {},
   "outputs": [
    {
     "name": "stdout",
     "output_type": "stream",
     "text": [
      "1 2 3 4 5 6 7 8 9 10 \n",
      "2 4 6 8 10 12 14 16 18 20 \n",
      "3 6 9 12 15 18 21 24 27 30 \n",
      "4 8 12 16 20 24 28 32 36 40 \n",
      "5 10 15 20 25 30 35 40 45 50 \n",
      "6 12 18 24 30 36 42 48 54 60 \n",
      "7 14 21 28 35 42 49 56 63 70 \n",
      "8 16 24 32 40 48 56 64 72 80 \n",
      "9 18 27 36 45 54 63 72 81 90 \n",
      "10 20 30 40 50 60 70 80 90 100 \n"
     ]
    }
   ],
   "source": [
    "# Nested for loop  \n",
    "for i in range(1, 11):\n",
    "    for j in range(1, 11): # print multiplication  \n",
    "        print(i*j,end=\" \")\n",
    "    print()"
   ]
  },
  {
   "cell_type": "markdown",
   "id": "c0f55ca8",
   "metadata": {},
   "source": [
    "### Jump Statements  \n",
    "- we called as unconditional jumps  \n",
    "- Break  \n",
    "- Continue  \n",
    "- Pass  "
   ]
  },
  {
   "cell_type": "markdown",
   "id": "177b31ff",
   "metadata": {},
   "source": [
    "### Break  \n",
    "- Terminates the current loop statements  \n",
    "- Break is a keyword  "
   ]
  },
  {
   "cell_type": "code",
   "execution_count": 23,
   "id": "dfaeb22d",
   "metadata": {},
   "outputs": [
    {
     "name": "stdout",
     "output_type": "stream",
     "text": [
      "p\n",
      "y\n",
      "t\n",
      "h\n"
     ]
    }
   ],
   "source": [
    "for i in \"python\":  \n",
    "    if i=='o':\n",
    "        break\n",
    "    print(i)"
   ]
  },
  {
   "cell_type": "code",
   "execution_count": 18,
   "id": "21d44b9b",
   "metadata": {},
   "outputs": [
    {
     "name": "stdout",
     "output_type": "stream",
     "text": [
      "1\n",
      " \n",
      "2\n",
      " \n",
      "3\n",
      " \n",
      "4\n",
      " \n",
      "5\n",
      " \n",
      "6\n",
      " \n",
      "7\n",
      " \n",
      "8\n",
      " \n"
     ]
    }
   ],
   "source": [
    "for i in \"1 2 3 4 5 6 7 8 9\":  \n",
    "    if i=='9':\n",
    "        break\n",
    "    print(i)"
   ]
  },
  {
   "cell_type": "markdown",
   "id": "bf1d89ec",
   "metadata": {},
   "source": [
    "### Continue  \n",
    "- it skips only current iteration and continue the next iteration  \n",
    "- continue is also a keyword  "
   ]
  },
  {
   "cell_type": "code",
   "execution_count": 24,
   "id": "19d8a157",
   "metadata": {},
   "outputs": [
    {
     "name": "stdout",
     "output_type": "stream",
     "text": [
      "0\n",
      "1\n",
      "2\n",
      "3\n",
      "4\n",
      "5\n",
      "7\n",
      "8\n",
      "9\n"
     ]
    }
   ],
   "source": [
    "for i in range(10):\n",
    "    if i==6:\n",
    "        continue\n",
    "        print(\"fdp\")\n",
    "    print(i)"
   ]
  },
  {
   "cell_type": "code",
   "execution_count": 28,
   "id": "899e0aab",
   "metadata": {},
   "outputs": [
    {
     "name": "stdout",
     "output_type": "stream",
     "text": [
      "1 3 5 7 9 "
     ]
    }
   ],
   "source": [
    "# print odd numbners using even number condition using continue  \n",
    "for i in range(1,10): \n",
    "    if(i%2==0):  \n",
    "        continue  \n",
    "    print(i,end=\" \")  "
   ]
  },
  {
   "cell_type": "markdown",
   "id": "3fe2385d",
   "metadata": {},
   "source": [
    "### Pass  \n",
    "- it is a keyword  \n",
    "- when we need condition scientifically correct need to change another operation  \n",
    "- it is a null operation  \n",
    "- pass statement we use to create empty classes also  "
   ]
  },
  {
   "cell_type": "code",
   "execution_count": 29,
   "id": "22ba56d5",
   "metadata": {},
   "outputs": [
    {
     "name": "stdout",
     "output_type": "stream",
     "text": [
      "p\n",
      "y\n",
      "t\n",
      "Pass Exicuted\n",
      "h\n",
      "o\n",
      "n\n"
     ]
    }
   ],
   "source": [
    "s=\"python\"  \n",
    "for i in s:\n",
    "    if i=='h':\n",
    "        pass  \n",
    "        print(\"Pass Exicuted\")  \n",
    "    print(i)  "
   ]
  },
  {
   "cell_type": "markdown",
   "id": "87f08c8f",
   "metadata": {},
   "source": [
    "### String  \n",
    "- string is a group of characters  \n",
    "- string is a derrived data type and immutable  \n",
    "- all strings return a new values  "
   ]
  },
  {
   "cell_type": "code",
   "execution_count": 35,
   "id": "81729484",
   "metadata": {},
   "outputs": [
    {
     "name": "stdout",
     "output_type": "stream",
     "text": [
      "<class 'str'>\n"
     ]
    }
   ],
   "source": [
    "a=\"vasavicollege\"  \n",
    "print(type(a))  "
   ]
  },
  {
   "cell_type": "code",
   "execution_count": 36,
   "id": "bbff7e7e",
   "metadata": {},
   "outputs": [
    {
     "name": "stdout",
     "output_type": "stream",
     "text": [
      "13\n"
     ]
    }
   ],
   "source": [
    "print(len(a))  "
   ]
  },
  {
   "cell_type": "code",
   "execution_count": 37,
   "id": "850e96b9",
   "metadata": {},
   "outputs": [
    {
     "name": "stdout",
     "output_type": "stream",
     "text": [
      "a\n",
      "v\n",
      "['a', 'a', 'c', 'e', 'e', 'g', 'i', 'l', 'l', 'o', 's', 'v', 'v']\n"
     ]
    }
   ],
   "source": [
    "print(min(a))  \n",
    "print(max(a))  \n",
    "print(sorted(a))  \n",
    "# print(sum(a))  "
   ]
  },
  {
   "cell_type": "code",
   "execution_count": 34,
   "id": "b4e4ae13",
   "metadata": {},
   "outputs": [
    {
     "name": "stdout",
     "output_type": "stream",
     "text": [
      "pythonworkshop\n",
      "python workshop\n"
     ]
    },
    {
     "ename": "TypeError",
     "evalue": "can't multiply sequence by non-int of type 'str'",
     "output_type": "error",
     "traceback": [
      "\u001b[1;31m---------------------------------------------------------------------------\u001b[0m",
      "\u001b[1;31mTypeError\u001b[0m                                 Traceback (most recent call last)",
      "\u001b[1;32m~\\AppData\\Local\\Temp/ipykernel_3508/3047519333.py\u001b[0m in \u001b[0;36m<module>\u001b[1;34m\u001b[0m\n\u001b[0;32m      3\u001b[0m \u001b[0mprint\u001b[0m\u001b[1;33m(\u001b[0m\u001b[0ms\u001b[0m\u001b[1;33m+\u001b[0m\u001b[0ms1\u001b[0m\u001b[1;33m)\u001b[0m\u001b[1;33m\u001b[0m\u001b[1;33m\u001b[0m\u001b[0m\n\u001b[0;32m      4\u001b[0m \u001b[0mprint\u001b[0m\u001b[1;33m(\u001b[0m\u001b[0ms\u001b[0m\u001b[1;33m,\u001b[0m\u001b[0ms1\u001b[0m\u001b[1;33m)\u001b[0m\u001b[1;33m\u001b[0m\u001b[1;33m\u001b[0m\u001b[0m\n\u001b[1;32m----> 5\u001b[1;33m \u001b[0mprint\u001b[0m\u001b[1;33m(\u001b[0m\u001b[0ms\u001b[0m\u001b[1;33m*\u001b[0m\u001b[0ms1\u001b[0m\u001b[1;33m)\u001b[0m\u001b[1;33m\u001b[0m\u001b[1;33m\u001b[0m\u001b[0m\n\u001b[0m",
      "\u001b[1;31mTypeError\u001b[0m: can't multiply sequence by non-int of type 'str'"
     ]
    }
   ],
   "source": [
    "s=\"python\"  \n",
    "s1=\"workshop\"  \n",
    "print(s+s1)\n",
    "print(s,s1)  \n",
    "print(s*s1)  "
   ]
  },
  {
   "cell_type": "code",
   "execution_count": 38,
   "id": "a98064ae",
   "metadata": {},
   "outputs": [
    {
     "name": "stdout",
     "output_type": "stream",
     "text": [
      "15\n",
      "p\n",
      "n\n",
      "p\n",
      "p\n",
      "o\n",
      "python workshop\n",
      "pyth\n",
      "n works\n",
      "\n"
     ]
    }
   ],
   "source": [
    "# slicing syntax::(start:end:step)  \n",
    "# positive indexing(left to right)  \n",
    "# negative indexing(right to left)  \n",
    "s=\"python workshop\"  \n",
    "print(len(s))  \n",
    "print(s[0])  \n",
    "print(s[5])  \n",
    "print(s[14])  \n",
    "print(s[-1])  \n",
    "print(s[-2])  \n",
    "print(s[::])  \n",
    "print(s[0:4])  \n",
    "print(s[5:12])  \n",
    "print(s[-1:-5])  "
   ]
  },
  {
   "cell_type": "code",
   "execution_count": 41,
   "id": "99503b74",
   "metadata": {},
   "outputs": [],
   "source": [
    "s='vasavi college'  \n",
    "s=\"vasavi college\"  \n",
    "\n",
    "s1='''i am from  \n",
    "apssdc  \n",
    "i am santosh'''  \n",
    "s2=\"\"\"engineering  \n",
    "department  \n",
    "cse\"\"\" "
   ]
  },
  {
   "cell_type": "code",
   "execution_count": 42,
   "id": "12601604",
   "metadata": {},
   "outputs": [
    {
     "name": "stdout",
     "output_type": "stream",
     "text": [
      "i am from  \n",
      "apssdc  \n",
      "i am santosh\n"
     ]
    }
   ],
   "source": [
    "print(s1)"
   ]
  },
  {
   "cell_type": "code",
   "execution_count": 43,
   "id": "64abc35a",
   "metadata": {},
   "outputs": [
    {
     "name": "stdout",
     "output_type": "stream",
     "text": [
      "engineering  \n",
      "department  \n",
      "cse\n"
     ]
    }
   ],
   "source": [
    "print(s2)"
   ]
  },
  {
   "cell_type": "code",
   "execution_count": 44,
   "id": "901870e4",
   "metadata": {},
   "outputs": [
    {
     "name": "stdout",
     "output_type": "stream",
     "text": [
      "30\n"
     ]
    }
   ],
   "source": [
    "print(len(s2))"
   ]
  },
  {
   "cell_type": "code",
   "execution_count": 19,
   "id": "0b389861",
   "metadata": {},
   "outputs": [
    {
     "name": "stdout",
     "output_type": "stream",
     "text": [
      "Apssdc workshop\n"
     ]
    }
   ],
   "source": [
    "p=\"apssdc workshop\"\n",
    "print(p.capitalize())  "
   ]
  },
  {
   "cell_type": "code",
   "execution_count": 47,
   "id": "0c7288e6",
   "metadata": {},
   "outputs": [
    {
     "name": "stdout",
     "output_type": "stream",
     "text": [
      "santosh\n",
      "SANTOSH\n",
      "santosh\n"
     ]
    }
   ],
   "source": [
    "n=\"santosh\"  \n",
    "print(n)\n",
    "print(n.upper())\n",
    "print(n.lower())  "
   ]
  },
  {
   "cell_type": "code",
   "execution_count": 48,
   "id": "92a5bcd5",
   "metadata": {},
   "outputs": [
    {
     "name": "stdout",
     "output_type": "stream",
     "text": [
      "faculty development program\n",
      "Faculty Development Program\n"
     ]
    }
   ],
   "source": [
    "m=\"faculty development program\"  \n",
    "print(m)\n",
    "print(m.title())  "
   ]
  },
  {
   "cell_type": "code",
   "execution_count": 51,
   "id": "e3aec18f",
   "metadata": {},
   "outputs": [
    {
     "name": "stdout",
     "output_type": "stream",
     "text": [
      "True True False\n"
     ]
    }
   ],
   "source": [
    "s2=\"workshop\"  \n",
    "s3=\"WORKSHOP\"  \n",
    "s4=\"workshop\"  \n",
    "print(s2.islower(),s3.isupper(),s4.isupper())  "
   ]
  },
  {
   "cell_type": "code",
   "execution_count": 54,
   "id": "e819ff1c",
   "metadata": {},
   "outputs": [
    {
     "data": {
      "text/plain": [
       "True"
      ]
     },
     "execution_count": 54,
     "metadata": {},
     "output_type": "execute_result"
    }
   ],
   "source": [
    "s7=\"India Is My Country\"  \n",
    "s7.istitle()"
   ]
  },
  {
   "cell_type": "code",
   "execution_count": 55,
   "id": "3865c7a5",
   "metadata": {},
   "outputs": [
    {
     "data": {
      "text/plain": [
       "False"
      ]
     },
     "execution_count": 55,
     "metadata": {},
     "output_type": "execute_result"
    }
   ],
   "source": [
    "s7=\"India is my country\"  \n",
    "s7.istitle()"
   ]
  },
  {
   "cell_type": "code",
   "execution_count": 56,
   "id": "6116ea60",
   "metadata": {},
   "outputs": [
    {
     "data": {
      "text/plain": [
       "True"
      ]
     },
     "execution_count": 56,
     "metadata": {},
     "output_type": "execute_result"
    }
   ],
   "source": [
    "s8=\" \"\n",
    "s8.isspace()"
   ]
  },
  {
   "cell_type": "code",
   "execution_count": 57,
   "id": "26b2ade3",
   "metadata": {},
   "outputs": [
    {
     "data": {
      "text/plain": [
       "False"
      ]
     },
     "execution_count": 57,
     "metadata": {},
     "output_type": "execute_result"
    }
   ],
   "source": [
    "# isdigit-which is used to identify the digits in a given string \n",
    "# isalpha-which returns true ,alphabets present in a given string  \n",
    "r=\"python3\"  \n",
    "r.isalpha()"
   ]
  },
  {
   "cell_type": "code",
   "execution_count": 58,
   "id": "2d90b0e0",
   "metadata": {},
   "outputs": [
    {
     "data": {
      "text/plain": [
       "False"
      ]
     },
     "execution_count": 58,
     "metadata": {},
     "output_type": "execute_result"
    }
   ],
   "source": [
    "r.isdigit()"
   ]
  },
  {
   "cell_type": "code",
   "execution_count": 59,
   "id": "816745bf",
   "metadata": {},
   "outputs": [
    {
     "data": {
      "text/plain": [
       "True"
      ]
     },
     "execution_count": 59,
     "metadata": {},
     "output_type": "execute_result"
    }
   ],
   "source": [
    "s=\"3456789\"  \n",
    "s.isalnum()  "
   ]
  },
  {
   "cell_type": "code",
   "execution_count": 60,
   "id": "d941c59c",
   "metadata": {},
   "outputs": [
    {
     "data": {
      "text/plain": [
       "['python3',\n",
       " 'is',\n",
       " 'latest',\n",
       " 'version',\n",
       " 'and',\n",
       " 'today',\n",
       " 'we',\n",
       " 'are',\n",
       " 'practicing',\n",
       " 'python',\n",
       " 'programs']"
      ]
     },
     "execution_count": 60,
     "metadata": {},
     "output_type": "execute_result"
    }
   ],
   "source": [
    "s=\"python3 is latest version and today we are practicing python programs\"  \n",
    "s.split()"
   ]
  },
  {
   "cell_type": "code",
   "execution_count": 61,
   "id": "78311625",
   "metadata": {},
   "outputs": [
    {
     "data": {
      "text/plain": [
       "['python3',\n",
       " 'is',\n",
       " 'latest',\n",
       " 'version',\n",
       " 'and',\n",
       " 'today',\n",
       " 'we',\n",
       " 'are',\n",
       " 'practicing',\n",
       " 'python',\n",
       " 'programs']"
      ]
     },
     "execution_count": 61,
     "metadata": {},
     "output_type": "execute_result"
    }
   ],
   "source": [
    "s=\"python3@is@latest@version@and@today@we@are@practicing@python@programs\"  \n",
    "s.split('@')  "
   ]
  },
  {
   "cell_type": "code",
   "execution_count": 62,
   "id": "d1088caf",
   "metadata": {},
   "outputs": [
    {
     "data": {
      "text/plain": [
       "['py',\n",
       " 'hon3 is la',\n",
       " 'es',\n",
       " ' version and ',\n",
       " 'oday we are prac',\n",
       " 'icing py',\n",
       " 'hon programs']"
      ]
     },
     "execution_count": 62,
     "metadata": {},
     "output_type": "execute_result"
    }
   ],
   "source": [
    "s=\"python3 is latest version and today we are practicing python programs\" \n",
    "s.split('t')"
   ]
  },
  {
   "cell_type": "code",
   "execution_count": 63,
   "id": "fbfbebf1",
   "metadata": {},
   "outputs": [
    {
     "name": "stdout",
     "output_type": "stream",
     "text": [
      "sAnToSh\n"
     ]
    }
   ],
   "source": [
    "s=\"SaNtOsH\"  \n",
    "s2=''\n",
    "for i in s:\n",
    "    if i.islower():\n",
    "        s2 +=i.upper()\n",
    "    else:\n",
    "        s2 +=i.lower()\n",
    "print(s2)  "
   ]
  },
  {
   "cell_type": "code",
   "execution_count": 64,
   "id": "0abcbca2",
   "metadata": {},
   "outputs": [
    {
     "data": {
      "text/plain": [
       "'sAnToSh'"
      ]
     },
     "execution_count": 64,
     "metadata": {},
     "output_type": "execute_result"
    }
   ],
   "source": [
    "# swapcase  \n",
    "s.swapcase()"
   ]
  },
  {
   "cell_type": "code",
   "execution_count": 65,
   "id": "a63ce690",
   "metadata": {},
   "outputs": [
    {
     "data": {
      "text/plain": [
       "'python3 is latest version and today we are practicing python programs '"
      ]
     },
     "execution_count": 65,
     "metadata": {},
     "output_type": "execute_result"
    }
   ],
   "source": [
    "s=\"python3 is latest version and today we are practicing python programs \" \n",
    "s"
   ]
  },
  {
   "cell_type": "code",
   "execution_count": 66,
   "id": "f5e5245f",
   "metadata": {},
   "outputs": [
    {
     "data": {
      "text/plain": [
       "6"
      ]
     },
     "execution_count": 66,
     "metadata": {},
     "output_type": "execute_result"
    }
   ],
   "source": [
    "# count::to know the number of occurences  \n",
    "s.count('a')  "
   ]
  },
  {
   "cell_type": "code",
   "execution_count": 67,
   "id": "e449dabc",
   "metadata": {},
   "outputs": [
    {
     "data": {
      "text/plain": [
       "2"
      ]
     },
     "execution_count": 67,
     "metadata": {},
     "output_type": "execute_result"
    }
   ],
   "source": [
    "s.index('t') # searching starts from the begining  "
   ]
  },
  {
   "cell_type": "code",
   "execution_count": 68,
   "id": "f5b951a5",
   "metadata": {},
   "outputs": [
    {
     "data": {
      "text/plain": [
       "56"
      ]
     },
     "execution_count": 68,
     "metadata": {},
     "output_type": "execute_result"
    }
   ],
   "source": [
    "s.rindex('t') # searching starts from the ending  "
   ]
  },
  {
   "cell_type": "code",
   "execution_count": 69,
   "id": "4108bd1a",
   "metadata": {},
   "outputs": [
    {
     "data": {
      "text/plain": [
       "2"
      ]
     },
     "execution_count": 69,
     "metadata": {},
     "output_type": "execute_result"
    }
   ],
   "source": [
    "# find --it will return index position of that character  \n",
    "s.find('t')  "
   ]
  },
  {
   "cell_type": "code",
   "execution_count": 70,
   "id": "ba772992",
   "metadata": {},
   "outputs": [
    {
     "data": {
      "text/plain": [
       "8"
      ]
     },
     "execution_count": 70,
     "metadata": {},
     "output_type": "execute_result"
    }
   ],
   "source": [
    "s.index('is')  "
   ]
  },
  {
   "cell_type": "code",
   "execution_count": 71,
   "id": "99a6ac30",
   "metadata": {},
   "outputs": [
    {
     "data": {
      "text/plain": [
       "'hiii vasavi college'"
      ]
     },
     "execution_count": 71,
     "metadata": {},
     "output_type": "execute_result"
    }
   ],
   "source": [
    "# replace-used to replace the old character  \n",
    "# strip-used to remove white space by default  \n",
    "d=\"bye vasavi college\"  \n",
    "d.replace('bye','hiii')  "
   ]
  },
  {
   "cell_type": "code",
   "execution_count": 72,
   "id": "32ec4079",
   "metadata": {},
   "outputs": [
    {
     "name": "stdout",
     "output_type": "stream",
     "text": [
      "       hello sdc       \n"
     ]
    }
   ],
   "source": [
    "d=\"       hello sdc       \"  \n",
    "print(d)  "
   ]
  },
  {
   "cell_type": "code",
   "execution_count": 73,
   "id": "5e925af5",
   "metadata": {},
   "outputs": [
    {
     "data": {
      "text/plain": [
       "'hello sdc'"
      ]
     },
     "execution_count": 73,
     "metadata": {},
     "output_type": "execute_result"
    }
   ],
   "source": [
    "d.strip()"
   ]
  },
  {
   "cell_type": "code",
   "execution_count": 74,
   "id": "c273a0f8",
   "metadata": {},
   "outputs": [
    {
     "data": {
      "text/plain": [
       "'       hello sdc'"
      ]
     },
     "execution_count": 74,
     "metadata": {},
     "output_type": "execute_result"
    }
   ],
   "source": [
    "d.rstrip()"
   ]
  },
  {
   "cell_type": "code",
   "execution_count": 75,
   "id": "56939399",
   "metadata": {},
   "outputs": [
    {
     "data": {
      "text/plain": [
       "'t@h@u@r@s@d@a@y'"
      ]
     },
     "execution_count": 75,
     "metadata": {},
     "output_type": "execute_result"
    }
   ],
   "source": [
    "# join  \n",
    "# center  \n",
    "# startswith  \n",
    "# endswith  \n",
    "s=\"thursday\"  \n",
    "'@'.join(s)  "
   ]
  },
  {
   "cell_type": "code",
   "execution_count": 76,
   "id": "ea058b88",
   "metadata": {},
   "outputs": [
    {
     "data": {
      "text/plain": [
       "'t.h.u.r.s.d.a.y'"
      ]
     },
     "execution_count": 76,
     "metadata": {},
     "output_type": "execute_result"
    }
   ],
   "source": [
    "s=\"thursday\"  \n",
    "'.'.join(s)  "
   ]
  },
  {
   "cell_type": "code",
   "execution_count": 79,
   "id": "059deeeb",
   "metadata": {},
   "outputs": [
    {
     "data": {
      "text/plain": [
       "'thursday'"
      ]
     },
     "execution_count": 79,
     "metadata": {},
     "output_type": "execute_result"
    }
   ],
   "source": [
    "s.center(1)  "
   ]
  },
  {
   "cell_type": "code",
   "execution_count": 80,
   "id": "16b5ad04",
   "metadata": {},
   "outputs": [
    {
     "data": {
      "text/plain": [
       "'00thursday'"
      ]
     },
     "execution_count": 80,
     "metadata": {},
     "output_type": "execute_result"
    }
   ],
   "source": [
    "s.zfill(10)  "
   ]
  },
  {
   "cell_type": "code",
   "execution_count": 82,
   "id": "705ab1c2",
   "metadata": {},
   "outputs": [
    {
     "data": {
      "text/plain": [
       "'00000today is the 3rd day'"
      ]
     },
     "execution_count": 82,
     "metadata": {},
     "output_type": "execute_result"
    }
   ],
   "source": [
    "s2=\"today is the 3rd day\"  \n",
    "len(s2)  \n",
    "s2.zfill(25)  "
   ]
  },
  {
   "cell_type": "code",
   "execution_count": 83,
   "id": "f7f6f5de",
   "metadata": {},
   "outputs": [
    {
     "data": {
      "text/plain": [
       "True"
      ]
     },
     "execution_count": 83,
     "metadata": {},
     "output_type": "execute_result"
    }
   ],
   "source": [
    "s2.startswith('to')  "
   ]
  },
  {
   "cell_type": "code",
   "execution_count": 84,
   "id": "3862eed8",
   "metadata": {},
   "outputs": [
    {
     "data": {
      "text/plain": [
       "False"
      ]
     },
     "execution_count": 84,
     "metadata": {},
     "output_type": "execute_result"
    }
   ],
   "source": [
    "s2.startswith('day')  "
   ]
  },
  {
   "cell_type": "code",
   "execution_count": 85,
   "id": "1eab19b8",
   "metadata": {},
   "outputs": [
    {
     "data": {
      "text/plain": [
       "True"
      ]
     },
     "execution_count": 85,
     "metadata": {},
     "output_type": "execute_result"
    }
   ],
   "source": [
    "s2.endswith('day')  "
   ]
  },
  {
   "cell_type": "markdown",
   "id": "d9185e7b",
   "metadata": {},
   "source": [
    "### Data Structures  \n",
    "- List\n",
    "    - It is one of the data structure in python.    \n",
    "    - List is mutable\n",
    "    - Represented with []\n",
    "    - Slicing,Indexing are same as the strings concept.  \n",
    "- Tuple  \n",
    "    - tuple represented with ()  \n",
    "    - tuple is immutable\n",
    "- set  \n",
    "    - Set is represented with {}\n",
    "- Dictionaries  \n",
    "Data structures are two types:\n",
    "   - Mutable  \n",
    "      - we can change at any time after its declaration.  \n",
    "      - ex:List,Dictionaries  \n",
    "   - Immutable    \n",
    "       - we can't change it once it declared    \n",
    "       - ex:String,Tuple  "
   ]
  },
  {
   "cell_type": "code",
   "execution_count": 86,
   "id": "ffc2d577",
   "metadata": {},
   "outputs": [
    {
     "name": "stdout",
     "output_type": "stream",
     "text": [
      "[2, 4, 7, 4, 9, 1]\n"
     ]
    }
   ],
   "source": [
    "li=[2,4,7,4,9,1]  \n",
    "print(li)  "
   ]
  },
  {
   "cell_type": "code",
   "execution_count": 87,
   "id": "ece57354",
   "metadata": {},
   "outputs": [
    {
     "data": {
      "text/plain": [
       "6"
      ]
     },
     "execution_count": 87,
     "metadata": {},
     "output_type": "execute_result"
    }
   ],
   "source": [
    "len(li)  "
   ]
  },
  {
   "cell_type": "code",
   "execution_count": 88,
   "id": "9955f984",
   "metadata": {},
   "outputs": [
    {
     "name": "stdout",
     "output_type": "stream",
     "text": [
      "length of the list 6\n",
      "max one of the list 9\n",
      "min one of the list 1\n"
     ]
    }
   ],
   "source": [
    "print(\"length of the list\",len(li))  \n",
    "print(\"max one of the list\",max(li))  \n",
    "print(\"min one of the list\",min(li))  "
   ]
  },
  {
   "cell_type": "code",
   "execution_count": 6,
   "id": "30f178a0",
   "metadata": {},
   "outputs": [],
   "source": [
    "a=['apple',5,8,24.6]  \n",
    "b=[4,8,'today',4]"
   ]
  },
  {
   "cell_type": "code",
   "execution_count": 7,
   "id": "4e71e3ae",
   "metadata": {},
   "outputs": [
    {
     "data": {
      "text/plain": [
       "['apple', 5, 8, 24.6, 4, 8, 'today', 4]"
      ]
     },
     "execution_count": 7,
     "metadata": {},
     "output_type": "execute_result"
    }
   ],
   "source": [
    "a+b #concatination  "
   ]
  },
  {
   "cell_type": "code",
   "execution_count": 8,
   "id": "c58c918c",
   "metadata": {},
   "outputs": [
    {
     "data": {
      "text/plain": [
       "[4, 8, 'today', 4, 'apple', 5, 8, 24.6]"
      ]
     },
     "execution_count": 8,
     "metadata": {},
     "output_type": "execute_result"
    }
   ],
   "source": [
    "b+a  "
   ]
  },
  {
   "cell_type": "code",
   "execution_count": 10,
   "id": "821be34a",
   "metadata": {},
   "outputs": [
    {
     "data": {
      "text/plain": [
       "['apple', 5, 8, 24.6, 'apple', 5, 8, 24.6, 'apple', 5, 8, 24.6]"
      ]
     },
     "execution_count": 10,
     "metadata": {},
     "output_type": "execute_result"
    }
   ],
   "source": [
    "a*3 "
   ]
  },
  {
   "cell_type": "code",
   "execution_count": 11,
   "id": "feafc886",
   "metadata": {},
   "outputs": [
    {
     "data": {
      "text/plain": [
       "['apple', 5, 8, 24.6, 4, 8, 'today', 4, 'apple', 5, 8, 24.6, 4, 8, 'today', 4]"
      ]
     },
     "execution_count": 11,
     "metadata": {},
     "output_type": "execute_result"
    }
   ],
   "source": [
    "(a+b)*2  "
   ]
  },
  {
   "cell_type": "code",
   "execution_count": 12,
   "id": "2c8f11fe",
   "metadata": {},
   "outputs": [
    {
     "data": {
      "text/plain": [
       "True"
      ]
     },
     "execution_count": 12,
     "metadata": {},
     "output_type": "execute_result"
    }
   ],
   "source": [
    "'apple' in a  "
   ]
  },
  {
   "cell_type": "code",
   "execution_count": 13,
   "id": "b3d0af97",
   "metadata": {},
   "outputs": [
    {
     "data": {
      "text/plain": [
       "True"
      ]
     },
     "execution_count": 13,
     "metadata": {},
     "output_type": "execute_result"
    }
   ],
   "source": [
    "'today' not in a  "
   ]
  },
  {
   "cell_type": "code",
   "execution_count": 14,
   "id": "273eba69",
   "metadata": {},
   "outputs": [
    {
     "data": {
      "text/plain": [
       "False"
      ]
     },
     "execution_count": 14,
     "metadata": {},
     "output_type": "execute_result"
    }
   ],
   "source": [
    "'apple' not in a "
   ]
  },
  {
   "cell_type": "code",
   "execution_count": 3,
   "id": "f40242f3",
   "metadata": {},
   "outputs": [
    {
     "data": {
      "text/plain": [
       "'santosh'"
      ]
     },
     "execution_count": 3,
     "metadata": {},
     "output_type": "execute_result"
    }
   ],
   "source": [
    "names=['siddu','samhi','girl','veeru','manju','santosh']  \n",
    "names[0]  \n",
    "names[5]  "
   ]
  },
  {
   "cell_type": "code",
   "execution_count": 4,
   "id": "ab6742d2",
   "metadata": {},
   "outputs": [
    {
     "data": {
      "text/plain": [
       "['siddu', 'samhi', 'girl']"
      ]
     },
     "execution_count": 4,
     "metadata": {},
     "output_type": "execute_result"
    }
   ],
   "source": [
    "names[5]  \n",
    "names[:3]  "
   ]
  },
  {
   "cell_type": "code",
   "execution_count": 5,
   "id": "94eeaf0e",
   "metadata": {},
   "outputs": [
    {
     "data": {
      "text/plain": [
       "'mesh'"
      ]
     },
     "execution_count": 5,
     "metadata": {},
     "output_type": "execute_result"
    }
   ],
   "source": [
    "s='ramesh'  \n",
    "s[0]  \n",
    "s[:3] # ram  \n",
    "s[0:3] # ram  \n",
    "s[2:6] # mesh  \n",
    "s[2:] # mesh  "
   ]
  },
  {
   "cell_type": "code",
   "execution_count": 15,
   "id": "f685c784",
   "metadata": {},
   "outputs": [],
   "source": [
    "li1=['vasavi','college','students','hostel']  "
   ]
  },
  {
   "cell_type": "code",
   "execution_count": 16,
   "id": "3dda53f8",
   "metadata": {},
   "outputs": [
    {
     "data": {
      "text/plain": [
       "['students', 'hostel']"
      ]
     },
     "execution_count": 16,
     "metadata": {},
     "output_type": "execute_result"
    }
   ],
   "source": [
    "li1[2:]  "
   ]
  },
  {
   "cell_type": "code",
   "execution_count": 17,
   "id": "83245f18",
   "metadata": {},
   "outputs": [
    {
     "data": {
      "text/plain": [
       "['vasavi', 'college']"
      ]
     },
     "execution_count": 17,
     "metadata": {},
     "output_type": "execute_result"
    }
   ],
   "source": [
    "li1[:2]"
   ]
  },
  {
   "cell_type": "code",
   "execution_count": 18,
   "id": "9ba94221",
   "metadata": {},
   "outputs": [
    {
     "data": {
      "text/plain": [
       "['students', 'hostel']"
      ]
     },
     "execution_count": 18,
     "metadata": {},
     "output_type": "execute_result"
    }
   ],
   "source": [
    "li1[2:5]"
   ]
  },
  {
   "cell_type": "code",
   "execution_count": null,
   "id": "060d79b3",
   "metadata": {},
   "outputs": [],
   "source": []
  }
 ],
 "metadata": {
  "kernelspec": {
   "display_name": "Python 3 (ipykernel)",
   "language": "python",
   "name": "python3"
  },
  "language_info": {
   "codemirror_mode": {
    "name": "ipython",
    "version": 3
   },
   "file_extension": ".py",
   "mimetype": "text/x-python",
   "name": "python",
   "nbconvert_exporter": "python",
   "pygments_lexer": "ipython3",
   "version": "3.9.7"
  }
 },
 "nbformat": 4,
 "nbformat_minor": 5
}
